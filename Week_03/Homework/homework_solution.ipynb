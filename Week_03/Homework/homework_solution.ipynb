{
 "cells": [
  {
   "cell_type": "markdown",
   "metadata": {},
   "source": [
    "# Homework - Week 03"
   ]
  },
  {
   "cell_type": "code",
   "execution_count": 121,
   "metadata": {},
   "outputs": [],
   "source": [
    "import numpy as np\n",
    "import pandas as pd\n",
    "import matplotlib.pyplot as plt\n",
    "import seaborn as sns\n",
    "\n",
    "from sklearn.model_selection import train_test_split\n",
    "from IPython.display import display\n",
    "from sklearn.metrics import accuracy_score\n",
    "from sklearn.metrics import mean_squared_error\n",
    "from sklearn.linear_model import Ridge\n",
    "from sklearn.metrics import mutual_info_score\n",
    "from sklearn.feature_extraction import DictVectorizer\n",
    "from sklearn.linear_model import LogisticRegression"
   ]
  },
  {
   "cell_type": "code",
   "execution_count": 22,
   "metadata": {},
   "outputs": [
    {
     "name": "stdout",
     "output_type": "stream",
     "text": [
      "--2023-10-02 11:25:57--  https://raw.githubusercontent.com/alexeygrigorev/mlbookcamp-code/master/chapter-02-car-price/data.csv\n",
      "Resolving raw.githubusercontent.com (raw.githubusercontent.com)... 2606:50c0:8003::154, 2606:50c0:8001::154, 2606:50c0:8000::154, ...\n",
      "Connecting to raw.githubusercontent.com (raw.githubusercontent.com)|2606:50c0:8003::154|:443... connected.\n",
      "HTTP request sent, awaiting response... 200 OK\n",
      "Length: 1475504 (1.4M) [text/plain]\n",
      "Saving to: ‘data.csv.1’\n",
      "\n",
      "data.csv.1          100%[===================>]   1.41M  7.14MB/s    in 0.2s    \n",
      "\n",
      "2023-10-02 11:25:57 (7.14 MB/s) - ‘data.csv.1’ saved [1475504/1475504]\n",
      "\n"
     ]
    }
   ],
   "source": [
    "!wget https://raw.githubusercontent.com/alexeygrigorev/mlbookcamp-code/master/chapter-02-car-price/data.csv"
   ]
  },
  {
   "cell_type": "code",
   "execution_count": 98,
   "metadata": {},
   "outputs": [],
   "source": [
    "def sigmoid(z):\n",
    "    return 1 / (1+ np.exp(-z))"
   ]
  },
  {
   "cell_type": "code",
   "execution_count": 99,
   "metadata": {},
   "outputs": [
    {
     "data": {
      "text/html": [
       "<div>\n",
       "<style scoped>\n",
       "    .dataframe tbody tr th:only-of-type {\n",
       "        vertical-align: middle;\n",
       "    }\n",
       "\n",
       "    .dataframe tbody tr th {\n",
       "        vertical-align: top;\n",
       "    }\n",
       "\n",
       "    .dataframe thead th {\n",
       "        text-align: right;\n",
       "    }\n",
       "</style>\n",
       "<table border=\"1\" class=\"dataframe\">\n",
       "  <thead>\n",
       "    <tr style=\"text-align: right;\">\n",
       "      <th></th>\n",
       "      <th>0</th>\n",
       "      <th>1</th>\n",
       "      <th>2</th>\n",
       "      <th>3</th>\n",
       "      <th>4</th>\n",
       "    </tr>\n",
       "  </thead>\n",
       "  <tbody>\n",
       "    <tr>\n",
       "      <th>make</th>\n",
       "      <td>bmw</td>\n",
       "      <td>bmw</td>\n",
       "      <td>bmw</td>\n",
       "      <td>bmw</td>\n",
       "      <td>bmw</td>\n",
       "    </tr>\n",
       "    <tr>\n",
       "      <th>model</th>\n",
       "      <td>1_series_m</td>\n",
       "      <td>1_series</td>\n",
       "      <td>1_series</td>\n",
       "      <td>1_series</td>\n",
       "      <td>1_series</td>\n",
       "    </tr>\n",
       "    <tr>\n",
       "      <th>year</th>\n",
       "      <td>2011</td>\n",
       "      <td>2011</td>\n",
       "      <td>2011</td>\n",
       "      <td>2011</td>\n",
       "      <td>2011</td>\n",
       "    </tr>\n",
       "    <tr>\n",
       "      <th>engine_fuel_type</th>\n",
       "      <td>premium_unleaded_(required)</td>\n",
       "      <td>premium_unleaded_(required)</td>\n",
       "      <td>premium_unleaded_(required)</td>\n",
       "      <td>premium_unleaded_(required)</td>\n",
       "      <td>premium_unleaded_(required)</td>\n",
       "    </tr>\n",
       "    <tr>\n",
       "      <th>engine_hp</th>\n",
       "      <td>335.0</td>\n",
       "      <td>300.0</td>\n",
       "      <td>300.0</td>\n",
       "      <td>230.0</td>\n",
       "      <td>230.0</td>\n",
       "    </tr>\n",
       "    <tr>\n",
       "      <th>engine_cylinders</th>\n",
       "      <td>6.0</td>\n",
       "      <td>6.0</td>\n",
       "      <td>6.0</td>\n",
       "      <td>6.0</td>\n",
       "      <td>6.0</td>\n",
       "    </tr>\n",
       "    <tr>\n",
       "      <th>transmission_type</th>\n",
       "      <td>manual</td>\n",
       "      <td>manual</td>\n",
       "      <td>manual</td>\n",
       "      <td>manual</td>\n",
       "      <td>manual</td>\n",
       "    </tr>\n",
       "    <tr>\n",
       "      <th>driven_wheels</th>\n",
       "      <td>rear_wheel_drive</td>\n",
       "      <td>rear_wheel_drive</td>\n",
       "      <td>rear_wheel_drive</td>\n",
       "      <td>rear_wheel_drive</td>\n",
       "      <td>rear_wheel_drive</td>\n",
       "    </tr>\n",
       "    <tr>\n",
       "      <th>number_of_doors</th>\n",
       "      <td>2.0</td>\n",
       "      <td>2.0</td>\n",
       "      <td>2.0</td>\n",
       "      <td>2.0</td>\n",
       "      <td>2.0</td>\n",
       "    </tr>\n",
       "    <tr>\n",
       "      <th>market_category</th>\n",
       "      <td>factory_tuner,luxury,high-performance</td>\n",
       "      <td>luxury,performance</td>\n",
       "      <td>luxury,high-performance</td>\n",
       "      <td>luxury,performance</td>\n",
       "      <td>luxury</td>\n",
       "    </tr>\n",
       "    <tr>\n",
       "      <th>vehicle_size</th>\n",
       "      <td>compact</td>\n",
       "      <td>compact</td>\n",
       "      <td>compact</td>\n",
       "      <td>compact</td>\n",
       "      <td>compact</td>\n",
       "    </tr>\n",
       "    <tr>\n",
       "      <th>vehicle_style</th>\n",
       "      <td>coupe</td>\n",
       "      <td>convertible</td>\n",
       "      <td>coupe</td>\n",
       "      <td>coupe</td>\n",
       "      <td>convertible</td>\n",
       "    </tr>\n",
       "    <tr>\n",
       "      <th>highway_mpg</th>\n",
       "      <td>26</td>\n",
       "      <td>28</td>\n",
       "      <td>28</td>\n",
       "      <td>28</td>\n",
       "      <td>28</td>\n",
       "    </tr>\n",
       "    <tr>\n",
       "      <th>city_mpg</th>\n",
       "      <td>19</td>\n",
       "      <td>19</td>\n",
       "      <td>20</td>\n",
       "      <td>18</td>\n",
       "      <td>18</td>\n",
       "    </tr>\n",
       "    <tr>\n",
       "      <th>popularity</th>\n",
       "      <td>3916</td>\n",
       "      <td>3916</td>\n",
       "      <td>3916</td>\n",
       "      <td>3916</td>\n",
       "      <td>3916</td>\n",
       "    </tr>\n",
       "    <tr>\n",
       "      <th>msrp</th>\n",
       "      <td>46135</td>\n",
       "      <td>40650</td>\n",
       "      <td>36350</td>\n",
       "      <td>29450</td>\n",
       "      <td>34500</td>\n",
       "    </tr>\n",
       "  </tbody>\n",
       "</table>\n",
       "</div>"
      ],
      "text/plain": [
       "                                                       0  \\\n",
       "make                                                 bmw   \n",
       "model                                         1_series_m   \n",
       "year                                                2011   \n",
       "engine_fuel_type             premium_unleaded_(required)   \n",
       "engine_hp                                          335.0   \n",
       "engine_cylinders                                     6.0   \n",
       "transmission_type                                 manual   \n",
       "driven_wheels                           rear_wheel_drive   \n",
       "number_of_doors                                      2.0   \n",
       "market_category    factory_tuner,luxury,high-performance   \n",
       "vehicle_size                                     compact   \n",
       "vehicle_style                                      coupe   \n",
       "highway_mpg                                           26   \n",
       "city_mpg                                              19   \n",
       "popularity                                          3916   \n",
       "msrp                                               46135   \n",
       "\n",
       "                                             1                            2  \\\n",
       "make                                       bmw                          bmw   \n",
       "model                                 1_series                     1_series   \n",
       "year                                      2011                         2011   \n",
       "engine_fuel_type   premium_unleaded_(required)  premium_unleaded_(required)   \n",
       "engine_hp                                300.0                        300.0   \n",
       "engine_cylinders                           6.0                          6.0   \n",
       "transmission_type                       manual                       manual   \n",
       "driven_wheels                 rear_wheel_drive             rear_wheel_drive   \n",
       "number_of_doors                            2.0                          2.0   \n",
       "market_category             luxury,performance      luxury,high-performance   \n",
       "vehicle_size                           compact                      compact   \n",
       "vehicle_style                      convertible                        coupe   \n",
       "highway_mpg                                 28                           28   \n",
       "city_mpg                                    19                           20   \n",
       "popularity                                3916                         3916   \n",
       "msrp                                     40650                        36350   \n",
       "\n",
       "                                             3                            4  \n",
       "make                                       bmw                          bmw  \n",
       "model                                 1_series                     1_series  \n",
       "year                                      2011                         2011  \n",
       "engine_fuel_type   premium_unleaded_(required)  premium_unleaded_(required)  \n",
       "engine_hp                                230.0                        230.0  \n",
       "engine_cylinders                           6.0                          6.0  \n",
       "transmission_type                       manual                       manual  \n",
       "driven_wheels                 rear_wheel_drive             rear_wheel_drive  \n",
       "number_of_doors                            2.0                          2.0  \n",
       "market_category             luxury,performance                       luxury  \n",
       "vehicle_size                           compact                      compact  \n",
       "vehicle_style                            coupe                  convertible  \n",
       "highway_mpg                                 28                           28  \n",
       "city_mpg                                    18                           18  \n",
       "popularity                                3916                         3916  \n",
       "msrp                                     29450                        34500  "
      ]
     },
     "execution_count": 99,
     "metadata": {},
     "output_type": "execute_result"
    }
   ],
   "source": [
    "df = pd.read_csv(\"data.csv\")\n",
    "\n",
    "df.columns = df.columns.str.lower().str.replace(' ','_')\n",
    "categorical_columns = list(df.dtypes[df.dtypes == 'object'].index)\n",
    "\n",
    "for c in categorical_columns:\n",
    "    df[c] = df[c].str.lower().str.replace(' ','_')\n",
    "\n",
    "df.head().T"
   ]
  },
  {
   "cell_type": "markdown",
   "metadata": {},
   "source": [
    "## Data preparation"
   ]
  },
  {
   "cell_type": "code",
   "execution_count": 100,
   "metadata": {},
   "outputs": [],
   "source": [
    "columns = ['make','model','year','engine_hp',\n",
    "        'engine_cylinders','transmission_type','vehicle_style','highway_mpg',\n",
    "        'city_mpg','msrp']\n",
    "df = df[columns]"
   ]
  },
  {
   "cell_type": "code",
   "execution_count": 101,
   "metadata": {},
   "outputs": [
    {
     "data": {
      "text/plain": [
       "make                  object\n",
       "model                 object\n",
       "year                   int64\n",
       "engine_hp            float64\n",
       "engine_cylinders     float64\n",
       "transmission_type     object\n",
       "vehicle_style         object\n",
       "highway_mpg            int64\n",
       "city_mpg               int64\n",
       "msrp                   int64\n",
       "dtype: object"
      ]
     },
     "execution_count": 101,
     "metadata": {},
     "output_type": "execute_result"
    }
   ],
   "source": [
    "df.dtypes"
   ]
  },
  {
   "cell_type": "code",
   "execution_count": 102,
   "metadata": {},
   "outputs": [],
   "source": [
    "df.year = df.year.fillna(0)\n",
    "df.highway_mpg = df.highway_mpg.fillna(0)\n",
    "df.engine_hp = df.engine_hp.fillna(0)\n",
    "df.engine_cylinders = df.engine_cylinders.fillna(0)\n",
    "df.city_mpg = df.city_mpg.fillna(0)\n",
    "df.msrp = df.msrp.fillna(0)\n",
    "\n",
    "df.rename({'msrp':'price'},axis=1,inplace=True)"
   ]
  },
  {
   "cell_type": "code",
   "execution_count": 103,
   "metadata": {},
   "outputs": [
    {
     "data": {
      "text/plain": [
       "Index(['make', 'model', 'year', 'engine_hp', 'engine_cylinders',\n",
       "       'transmission_type', 'vehicle_style', 'highway_mpg', 'city_mpg',\n",
       "       'price'],\n",
       "      dtype='object')"
      ]
     },
     "execution_count": 103,
     "metadata": {},
     "output_type": "execute_result"
    }
   ],
   "source": [
    "df.columns"
   ]
  },
  {
   "cell_type": "markdown",
   "metadata": {},
   "source": [
    "## Question 1"
   ]
  },
  {
   "cell_type": "code",
   "execution_count": 104,
   "metadata": {},
   "outputs": [
    {
     "data": {
      "text/plain": [
       "0    automatic\n",
       "Name: transmission_type, dtype: object"
      ]
     },
     "execution_count": 104,
     "metadata": {},
     "output_type": "execute_result"
    }
   ],
   "source": [
    "df['transmission_type'].mode()"
   ]
  },
  {
   "cell_type": "markdown",
   "metadata": {},
   "source": [
    "> automatic\n",
    "## Question 2"
   ]
  },
  {
   "cell_type": "code",
   "execution_count": 105,
   "metadata": {},
   "outputs": [
    {
     "data": {
      "text/plain": [
       "engine_hp           0.650095\n",
       "engine_cylinders    0.526274\n",
       "year                0.227590\n",
       "city_mpg           -0.157676\n",
       "highway_mpg        -0.160043\n",
       "dtype: float64"
      ]
     },
     "execution_count": 105,
     "metadata": {},
     "output_type": "execute_result"
    }
   ],
   "source": [
    "numeric_cols = ['year','highway_mpg','engine_hp','engine_cylinders','city_mpg']\n",
    "categorical_columns = ['make','model','transmission_type','vehicle_style']\n",
    "y_model = ['price']\n",
    "\n",
    "y_q2 = df[y_model]\n",
    "df_q2 = df[numeric_cols]\n",
    "corrM = df_q2.corr()\n",
    "\n",
    "#corrM.head()\n",
    "# np.corrcoef(corrM, df.price)\n",
    "# corrM.corrwith(df.price)\n",
    "df_q2.corrwith(df.price).sort_values(ascending=False)"
   ]
  },
  {
   "cell_type": "code",
   "execution_count": 106,
   "metadata": {},
   "outputs": [
    {
     "data": {
      "image/png": "[encoded data removed]",
      "text/plain": [
       "<Figure size 1500x1000 with 2 Axes>"
      ]
     },
     "metadata": {},
     "output_type": "display_data"
    }
   ],
   "source": [
    "#@ INSPECTING HEATMAP:\n",
    "plt.figure(figsize=(15,10))  \n",
    "sns.heatmap(df_q2.corr(),annot=True,linewidths=.5, cmap=\"Blues\")\n",
    "plt.title('Heatmap showing correlations between numerical data')\n",
    "plt.show()"
   ]
  },
  {
   "cell_type": "code",
   "execution_count": 107,
   "metadata": {},
   "outputs": [
    {
     "data": {
      "text/plain": [
       "year              year                1.000000\n",
       "highway_mpg       highway_mpg         1.000000\n",
       "engine_cylinders  engine_cylinders    1.000000\n",
       "engine_hp         engine_hp           1.000000\n",
       "city_mpg          city_mpg            1.000000\n",
       "                  highway_mpg         0.886829\n",
       "highway_mpg       city_mpg            0.886829\n",
       "engine_cylinders  engine_hp           0.774851\n",
       "engine_hp         engine_cylinders    0.774851\n",
       "year              engine_hp           0.338714\n",
       "engine_hp         year                0.338714\n",
       "highway_mpg       year                0.258240\n",
       "year              highway_mpg         0.258240\n",
       "city_mpg          year                0.198171\n",
       "year              city_mpg            0.198171\n",
       "dtype: float64"
      ]
     },
     "execution_count": 107,
     "metadata": {},
     "output_type": "execute_result"
    }
   ],
   "source": [
    "df_q2.corr().unstack().sort_values(ascending = False)[:15]"
   ]
  },
  {
   "cell_type": "markdown",
   "metadata": {},
   "source": [
    "> `engine_hp` and `engine_cylinders`\n",
    "## Question 3"
   ]
  },
  {
   "cell_type": "code",
   "execution_count": 108,
   "metadata": {},
   "outputs": [],
   "source": [
    "price_mean = df.price.mean()\n",
    "df_q3 = df.copy()\n",
    "\n",
    "df_q3['above_average'] = np.where(df_q3.price>=price_mean,1,0)\n"
   ]
  },
  {
   "cell_type": "code",
   "execution_count": 109,
   "metadata": {},
   "outputs": [
    {
     "data": {
      "text/plain": [
       "(7148, 2383, 2383)"
      ]
     },
     "execution_count": 109,
     "metadata": {},
     "output_type": "execute_result"
    }
   ],
   "source": [
    "# split the data\n",
    "df_full_train, df_test = train_test_split(df_q3, test_size=0.2, random_state=42)\n",
    "df_train, df_val = train_test_split(df_full_train, test_size=0.25, random_state=42)\n",
    "len(df_train), len(df_val), len(df_test)"
   ]
  },
  {
   "cell_type": "code",
   "execution_count": 110,
   "metadata": {},
   "outputs": [],
   "source": [
    "y_train = df_train.above_average.values\n",
    "# y_val = df_val.above_average.values\n",
    "# y_test = df_test.above_average.values\n",
    "\n",
    "# del df_train['price']\n",
    "# del df_val['price']\n",
    "# del df_test['price']\n",
    "\n",
    "del df_train['above_average']\n",
    "del df_val['above_average']\n",
    "del df_test['above_average']"
   ]
  },
  {
   "cell_type": "code",
   "execution_count": 111,
   "metadata": {},
   "outputs": [
    {
     "data": {
      "text/plain": [
       "model                0.462344\n",
       "make                 0.239769\n",
       "vehicle_style        0.084143\n",
       "transmission_type    0.020958\n",
       "dtype: float64"
      ]
     },
     "execution_count": 111,
     "metadata": {},
     "output_type": "execute_result"
    }
   ],
   "source": [
    "def calculate_mi(series):\n",
    "    return mutual_info_score(series, y_train)\n",
    "\n",
    "df_minf = df_train[categorical_columns].apply(calculate_mi)\n",
    "df_minf = df_minf.sort_values(ascending=False)\n",
    "df_minf"
   ]
  },
  {
   "cell_type": "markdown",
   "metadata": {},
   "source": [
    "> transmission_type\n",
    "## Question 4"
   ]
  },
  {
   "cell_type": "code",
   "execution_count": 112,
   "metadata": {},
   "outputs": [],
   "source": [
    "y_train = df_train.price.values\n",
    "y_val = df_val.price.values\n",
    "y_test = df_test.price.values\n",
    "\n",
    "del df_train['price']\n",
    "del df_val['price']\n",
    "del df_test['price']"
   ]
  },
  {
   "cell_type": "code",
   "execution_count": 116,
   "metadata": {},
   "outputs": [
    {
     "data": {
      "text/html": [
       "<style>#sk-container-id-4 {color: black;}#sk-container-id-4 pre{padding: 0;}#sk-container-id-4 div.sk-toggleable {background-color: white;}#sk-container-id-4 label.sk-toggleable__label {cursor: pointer;display: block;width: 100%;margin-bottom: 0;padding: 0.3em;box-sizing: border-box;text-align: center;}#sk-container-id-4 label.sk-toggleable__label-arrow:before {content: \"▸\";float: left;margin-right: 0.25em;color: #696969;}#sk-container-id-4 label.sk-toggleable__label-arrow:hover:before {color: black;}#sk-container-id-4 div.sk-estimator:hover label.sk-toggleable__label-arrow:before {color: black;}#sk-container-id-4 div.sk-toggleable__content {max-height: 0;max-width: 0;overflow: hidden;text-align: left;background-color: #f0f8ff;}#sk-container-id-4 div.sk-toggleable__content pre {margin: 0.2em;color: black;border-radius: 0.25em;background-color: #f0f8ff;}#sk-container-id-4 input.sk-toggleable__control:checked~div.sk-toggleable__content {max-height: 200px;max-width: 100%;overflow: auto;}#sk-container-id-4 input.sk-toggleable__control:checked~label.sk-toggleable__label-arrow:before {content: \"▾\";}#sk-container-id-4 div.sk-estimator input.sk-toggleable__control:checked~label.sk-toggleable__label {background-color: #d4ebff;}#sk-container-id-4 div.sk-label input.sk-toggleable__control:checked~label.sk-toggleable__label {background-color: #d4ebff;}#sk-container-id-4 input.sk-hidden--visually {border: 0;clip: rect(1px 1px 1px 1px);clip: rect(1px, 1px, 1px, 1px);height: 1px;margin: -1px;overflow: hidden;padding: 0;position: absolute;width: 1px;}#sk-container-id-4 div.sk-estimator {font-family: monospace;background-color: #f0f8ff;border: 1px dotted black;border-radius: 0.25em;box-sizing: border-box;margin-bottom: 0.5em;}#sk-container-id-4 div.sk-estimator:hover {background-color: #d4ebff;}#sk-container-id-4 div.sk-parallel-item::after {content: \"\";width: 100%;border-bottom: 1px solid gray;flex-grow: 1;}#sk-container-id-4 div.sk-label:hover label.sk-toggleable__label {background-color: #d4ebff;}#sk-container-id-4 div.sk-serial::before {content: \"\";position: absolute;border-left: 1px solid gray;box-sizing: border-box;top: 0;bottom: 0;left: 50%;z-index: 0;}#sk-container-id-4 div.sk-serial {display: flex;flex-direction: column;align-items: center;background-color: white;padding-right: 0.2em;padding-left: 0.2em;position: relative;}#sk-container-id-4 div.sk-item {position: relative;z-index: 1;}#sk-container-id-4 div.sk-parallel {display: flex;align-items: stretch;justify-content: center;background-color: white;position: relative;}#sk-container-id-4 div.sk-item::before, #sk-container-id-4 div.sk-parallel-item::before {content: \"\";position: absolute;border-left: 1px solid gray;box-sizing: border-box;top: 0;bottom: 0;left: 50%;z-index: -1;}#sk-container-id-4 div.sk-parallel-item {display: flex;flex-direction: column;z-index: 1;position: relative;background-color: white;}#sk-container-id-4 div.sk-parallel-item:first-child::after {align-self: flex-end;width: 50%;}#sk-container-id-4 div.sk-parallel-item:last-child::after {align-self: flex-start;width: 50%;}#sk-container-id-4 div.sk-parallel-item:only-child::after {width: 0;}#sk-container-id-4 div.sk-dashed-wrapped {border: 1px dashed gray;margin: 0 0.4em 0.5em 0.4em;box-sizing: border-box;padding-bottom: 0.4em;background-color: white;}#sk-container-id-4 div.sk-label label {font-family: monospace;font-weight: bold;display: inline-block;line-height: 1.2em;}#sk-container-id-4 div.sk-label-container {text-align: center;}#sk-container-id-4 div.sk-container {/* jupyter's `normalize.less` sets `[hidden] { display: none; }` but bootstrap.min.css set `[hidden] { display: none !important; }` so we also need the `!important` here to be able to override the default hidden behavior on the sphinx rendered scikit-learn.org. See: https://github.com/scikit-learn/scikit-learn/issues/21755 */display: inline-block !important;position: relative;}#sk-container-id-4 div.sk-text-repr-fallback {display: none;}</style><div id=\"sk-container-id-4\" class=\"sk-top-container\"><div class=\"sk-text-repr-fallback\"><pre>LogisticRegression(C=10, max_iter=1000, random_state=42, solver=&#x27;liblinear&#x27;)</pre><b>In a Jupyter environment, please rerun this cell to show the HTML representation or trust the notebook. <br />On GitHub, the HTML representation is unable to render, please try loading this page with nbviewer.org.</b></div><div class=\"sk-container\" hidden><div class=\"sk-item\"><div class=\"sk-estimator sk-toggleable\"><input class=\"sk-toggleable__control sk-hidden--visually\" id=\"sk-estimator-id-4\" type=\"checkbox\" checked><label for=\"sk-estimator-id-4\" class=\"sk-toggleable__label sk-toggleable__label-arrow\">LogisticRegression</label><div class=\"sk-toggleable__content\"><pre>LogisticRegression(C=10, max_iter=1000, random_state=42, solver=&#x27;liblinear&#x27;)</pre></div></div></div></div></div>"
      ],
      "text/plain": [
       "LogisticRegression(C=10, max_iter=1000, random_state=42, solver='liblinear')"
      ]
     },
     "execution_count": 116,
     "metadata": {},
     "output_type": "execute_result"
    }
   ],
   "source": [
    "train_dict = df_train[categorical_columns + numeric_cols].to_dict(orient='records')\n",
    "\n",
    "dv = DictVectorizer(sparse=False)\n",
    "dv.fit(train_dict)\n",
    "X_train = dv.transform(train_dict)\n",
    "\n",
    "model = LogisticRegression(solver='liblinear', C=10, max_iter=1000, random_state=42)\n",
    "model.fit(X_train, y_train)\n"
   ]
  },
  {
   "cell_type": "code",
   "execution_count": 118,
   "metadata": {},
   "outputs": [
    {
     "name": "stdout",
     "output_type": "stream",
     "text": [
      "0.12\n"
     ]
    }
   ],
   "source": [
    "\n",
    "val_dict = df_val[categorical_columns + numeric_cols].to_dict(orient='records')\n",
    "X_val = dv.transform(val_dict)\n",
    "y_pred = model.predict(X_val)\n",
    "\n",
    "\n",
    "accuracy = np.round(accuracy_score(y_val, y_pred),2)\n",
    "print(accuracy)"
   ]
  },
  {
   "cell_type": "markdown",
   "metadata": {},
   "source": [
    "> 0.12\n",
    "## Question 5"
   ]
  },
  {
   "cell_type": "code",
   "execution_count": 119,
   "metadata": {},
   "outputs": [
    {
     "name": "stdout",
     "output_type": "stream",
     "text": [
      "make 0.015509861519093573 0.10449013848090642\n",
      "model 0.018866974402014264 0.10113302559798573\n",
      "transmission_type 0.015090222408728496 0.1049097775912715\n",
      "vehicle_style 0.015509861519093573 0.10449013848090642\n",
      "year 0.014670583298363404 0.10532941670163659\n",
      "highway_mpg 0.014670583298363404 0.10532941670163659\n",
      "engine_hp 0.016349139739823743 0.10365086026017625\n",
      "engine_cylinders 0.012992026856903052 0.10700797314309694\n",
      "city_mpg 0.013411665967268144 0.10658833403273185\n"
     ]
    }
   ],
   "source": [
    "features = categorical_columns + numeric_cols\n",
    "orig_score = accuracy\n",
    "\n",
    "for c in features:\n",
    "    subset = features.copy()\n",
    "    subset.remove(c)\n",
    "    \n",
    "    train_dict = df_train[subset].to_dict(orient='records')\n",
    "\n",
    "    dv = DictVectorizer(sparse=False)\n",
    "    dv.fit(train_dict)\n",
    "\n",
    "    X_train = dv.transform(train_dict)\n",
    "\n",
    "    model = LogisticRegression(solver='liblinear', C=1.0, max_iter=1000, random_state=42)\n",
    "    model.fit(X_train, y_train)\n",
    "\n",
    "    val_dict = df_val[subset].to_dict(orient='records')\n",
    "    X_val = dv.transform(val_dict)\n",
    "\n",
    "    y_pred = model.predict(X_val)\n",
    "\n",
    "    score = accuracy_score(y_val, y_pred)\n",
    "    print(c, orig_score - score, score)\n"
   ]
  },
  {
   "cell_type": "markdown",
   "metadata": {},
   "source": [
    "> city_mpg\n",
    "## Question 6 "
   ]
  },
  {
   "cell_type": "code",
   "execution_count": 120,
   "metadata": {},
   "outputs": [],
   "source": [
    "df_q6 = df.copy()\n",
    "df_q6['price'] = np.log1p(df_q6['price'])\n",
    "\n",
    "df_train_full, df_test = train_test_split(df_q6, test_size=0.2, random_state=42)\n",
    "df_train, df_val = train_test_split(df_train_full, test_size=0.25, random_state=42)\n",
    "\n",
    "df_train = df_train.reset_index(drop=True)\n",
    "df_val = df_val.reset_index(drop=True)\n",
    "df_test = df_test.reset_index(drop=True)\n",
    "\n",
    "y_train = df_train.price.values\n",
    "y_val = df_val.price.values\n",
    "y_test = df_test.price.values\n",
    "\n",
    "del df_train['price']\n",
    "del df_val['price']\n",
    "del df_test['price']"
   ]
  },
  {
   "cell_type": "code",
   "execution_count": 122,
   "metadata": {},
   "outputs": [
    {
     "name": "stderr",
     "output_type": "stream",
     "text": [
      "/usr/local/lib/python3.10/dist-packages/sklearn/linear_model/_sag.py:350: ConvergenceWarning: The max_iter was reached which means the coef_ did not converge\n",
      "  warnings.warn(\n"
     ]
    },
    {
     "name": "stdout",
     "output_type": "stream",
     "text": [
      "0 0.487\n"
     ]
    },
    {
     "name": "stderr",
     "output_type": "stream",
     "text": [
      "/usr/local/lib/python3.10/dist-packages/sklearn/linear_model/_sag.py:350: ConvergenceWarning: The max_iter was reached which means the coef_ did not converge\n",
      "  warnings.warn(\n"
     ]
    },
    {
     "name": "stdout",
     "output_type": "stream",
     "text": [
      "0.01 0.487\n"
     ]
    },
    {
     "name": "stderr",
     "output_type": "stream",
     "text": [
      "/usr/local/lib/python3.10/dist-packages/sklearn/linear_model/_sag.py:350: ConvergenceWarning: The max_iter was reached which means the coef_ did not converge\n",
      "  warnings.warn(\n"
     ]
    },
    {
     "name": "stdout",
     "output_type": "stream",
     "text": [
      "0.1 0.487\n"
     ]
    },
    {
     "name": "stderr",
     "output_type": "stream",
     "text": [
      "/usr/local/lib/python3.10/dist-packages/sklearn/linear_model/_sag.py:350: ConvergenceWarning: The max_iter was reached which means the coef_ did not converge\n",
      "  warnings.warn(\n"
     ]
    },
    {
     "name": "stdout",
     "output_type": "stream",
     "text": [
      "1 0.487\n",
      "10 0.487\n"
     ]
    },
    {
     "name": "stderr",
     "output_type": "stream",
     "text": [
      "/usr/local/lib/python3.10/dist-packages/sklearn/linear_model/_sag.py:350: ConvergenceWarning: The max_iter was reached which means the coef_ did not converge\n",
      "  warnings.warn(\n"
     ]
    }
   ],
   "source": [
    "train_dict = df_train[features].to_dict(orient='records')\n",
    "\n",
    "dv = DictVectorizer(sparse=False)\n",
    "dv.fit(train_dict)\n",
    "\n",
    "X_train = dv.transform(train_dict)\n",
    "\n",
    "val_dict = df_val[features].to_dict(orient='records')\n",
    "X_val = dv.transform(val_dict)\n",
    "\n",
    "for a in [0, 0.01, 0.1, 1, 10]:\n",
    "    model = Ridge(alpha=a, solver=\"sag\", random_state=42)\n",
    "    model.fit(X_train, y_train)\n",
    "    \n",
    "    y_pred = model.predict(X_val)\n",
    "    \n",
    "    score = np.sqrt(mean_squared_error(y_val, y_pred))\n",
    "    \n",
    "    print(a, round(score, 3))"
   ]
  }
 ],
 "metadata": {
  "kernelspec": {
   "display_name": "Python 3",
   "language": "python",
   "name": "python3"
  },
  "language_info": {
   "codemirror_mode": {
    "name": "ipython",
    "version": 3
   },
   "file_extension": ".py",
   "mimetype": "text/x-python",
   "name": "python",
   "nbconvert_exporter": "python",
   "pygments_lexer": "ipython3",
   "version": "3.10.12"
  },
  "orig_nbformat": 4
 },
 "nbformat": 4,
 "nbformat_minor": 2
}
